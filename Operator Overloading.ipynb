{
 "cells": [
  {
   "cell_type": "code",
   "execution_count": 3,
   "id": "4d45929f",
   "metadata": {},
   "outputs": [],
   "source": [
    "import math\n",
    "\n",
    "class Point :\n",
    "    def __init__(self,x,y):\n",
    "        self.__x=x\n",
    "        self.__y=y\n",
    "        \n",
    "    def __str__(self):\n",
    "        print(\"This is a point at\"+\"(\"+str(self.__x)+\",\"+str(self.__y)+\")\")\n",
    "        \n",
    "    \n",
    "    def __add__ (self,point_object):\n",
    "        return Point(self.__x+point_object.__x,self.__y+point_object.__y)\n",
    "    \n",
    "    def __gt__(self,point_obj):\n",
    "        return math.sqrt(self.__x**2 + self.__y**2) > math.sqrt(point_obj.__x**2 + point_obj.__y**2)\n",
    "    \n",
    "    "
   ]
  },
  {
   "cell_type": "code",
   "execution_count": 4,
   "id": "82b88be5",
   "metadata": {},
   "outputs": [],
   "source": [
    "p1 = Point(2,3)\n",
    "p2=Point(4,5)\n"
   ]
  },
  {
   "cell_type": "code",
   "execution_count": 5,
   "id": "017ca082",
   "metadata": {},
   "outputs": [],
   "source": [
    "p3=p1+p2"
   ]
  },
  {
   "cell_type": "code",
   "execution_count": 6,
   "id": "61f0876a",
   "metadata": {},
   "outputs": [
    {
     "data": {
      "text/plain": [
       "{'_Point__x': 6, '_Point__y': 8}"
      ]
     },
     "execution_count": 6,
     "metadata": {},
     "output_type": "execute_result"
    }
   ],
   "source": [
    "p3.__dict__"
   ]
  },
  {
   "cell_type": "code",
   "execution_count": 7,
   "id": "8b5cbc3c",
   "metadata": {},
   "outputs": [
    {
     "name": "stdout",
     "output_type": "stream",
     "text": [
      "True\n"
     ]
    }
   ],
   "source": [
    "print(p2>p1)"
   ]
  }
 ],
 "metadata": {
  "kernelspec": {
   "display_name": "Python 3",
   "language": "python",
   "name": "python3"
  },
  "language_info": {
   "codemirror_mode": {
    "name": "ipython",
    "version": 3
   },
   "file_extension": ".py",
   "mimetype": "text/x-python",
   "name": "python",
   "nbconvert_exporter": "python",
   "pygments_lexer": "ipython3",
   "version": "3.8.8"
  }
 },
 "nbformat": 4,
 "nbformat_minor": 5
}
