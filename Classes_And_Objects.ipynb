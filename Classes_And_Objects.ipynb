{
 "cells": [
  {
   "cell_type": "code",
   "execution_count": 15,
   "id": "38cffc99",
   "metadata": {},
   "outputs": [],
   "source": [
    "class Student:\n",
    "    pass"
   ]
  },
  {
   "cell_type": "code",
   "execution_count": 8,
   "id": "14643017",
   "metadata": {},
   "outputs": [],
   "source": [
    "s1 = Student()"
   ]
  },
  {
   "cell_type": "code",
   "execution_count": 10,
   "id": "ba6906c1",
   "metadata": {},
   "outputs": [
    {
     "name": "stdout",
     "output_type": "stream",
     "text": [
      "<__main__.Student object at 0x000002359BF46850>\n"
     ]
    }
   ],
   "source": [
    "print(s1)"
   ]
  },
  {
   "cell_type": "code",
   "execution_count": 9,
   "id": "f8b265fb",
   "metadata": {},
   "outputs": [
    {
     "data": {
      "text/plain": [
       "{}"
      ]
     },
     "execution_count": 9,
     "metadata": {},
     "output_type": "execute_result"
    }
   ],
   "source": [
    "s1.__dict__"
   ]
  },
  {
   "cell_type": "code",
   "execution_count": 11,
   "id": "99dd670b",
   "metadata": {},
   "outputs": [],
   "source": [
    "s1.name='swapnil'"
   ]
  },
  {
   "cell_type": "code",
   "execution_count": 16,
   "id": "7a1c03a4",
   "metadata": {},
   "outputs": [
    {
     "data": {
      "text/plain": [
       "{'name': 'swapnil'}"
      ]
     },
     "execution_count": 16,
     "metadata": {},
     "output_type": "execute_result"
    }
   ],
   "source": [
    "s1.__dict__"
   ]
  },
  {
   "cell_type": "code",
   "execution_count": 19,
   "id": "c7245437",
   "metadata": {},
   "outputs": [
    {
     "data": {
      "text/plain": [
       "True"
      ]
     },
     "execution_count": 19,
     "metadata": {},
     "output_type": "execute_result"
    }
   ],
   "source": [
    "hasattr(s1,'name')"
   ]
  },
  {
   "cell_type": "code",
   "execution_count": 20,
   "id": "82805834",
   "metadata": {},
   "outputs": [],
   "source": [
    "s2=Student()"
   ]
  },
  {
   "cell_type": "code",
   "execution_count": 22,
   "id": "63d5f86d",
   "metadata": {},
   "outputs": [
    {
     "data": {
      "text/plain": [
       "False"
      ]
     },
     "execution_count": 22,
     "metadata": {},
     "output_type": "execute_result"
    }
   ],
   "source": [
    "hasattr(s2,'name')"
   ]
  },
  {
   "cell_type": "code",
   "execution_count": 23,
   "id": "b1ad767a",
   "metadata": {},
   "outputs": [
    {
     "data": {
      "text/plain": [
       "'swapnil'"
      ]
     },
     "execution_count": 23,
     "metadata": {},
     "output_type": "execute_result"
    }
   ],
   "source": [
    "getattr(s1,'name')"
   ]
  },
  {
   "cell_type": "markdown",
   "id": "a716c078",
   "metadata": {},
   "source": [
    "if attribute is not present it will give third argument that is default value"
   ]
  },
  {
   "cell_type": "code",
   "execution_count": 24,
   "id": "a70effcb",
   "metadata": {},
   "outputs": [
    {
     "data": {
      "text/plain": [
       "'hello'"
      ]
     },
     "execution_count": 24,
     "metadata": {},
     "output_type": "execute_result"
    }
   ],
   "source": [
    "getattr(s2,'name','hello')"
   ]
  },
  {
   "cell_type": "code",
   "execution_count": 25,
   "id": "0a37fa22",
   "metadata": {},
   "outputs": [
    {
     "data": {
      "text/plain": [
       "'swapnil'"
      ]
     },
     "execution_count": 25,
     "metadata": {},
     "output_type": "execute_result"
    }
   ],
   "source": [
    "getattr(s1,'name','hello')"
   ]
  },
  {
   "cell_type": "code",
   "execution_count": 27,
   "id": "92ce2f4e",
   "metadata": {},
   "outputs": [
    {
     "ename": "AttributeError",
     "evalue": "name",
     "output_type": "error",
     "traceback": [
      "\u001b[1;31m---------------------------------------------------------------------------\u001b[0m",
      "\u001b[1;31mAttributeError\u001b[0m                            Traceback (most recent call last)",
      "\u001b[1;32m<ipython-input-27-ef5681c3095e>\u001b[0m in \u001b[0;36m<module>\u001b[1;34m\u001b[0m\n\u001b[1;32m----> 1\u001b[1;33m \u001b[0mdelattr\u001b[0m\u001b[1;33m(\u001b[0m\u001b[0ms1\u001b[0m\u001b[1;33m,\u001b[0m\u001b[1;34m'name'\u001b[0m\u001b[1;33m)\u001b[0m\u001b[1;33m\u001b[0m\u001b[1;33m\u001b[0m\u001b[0m\n\u001b[0m",
      "\u001b[1;31mAttributeError\u001b[0m: name"
     ]
    }
   ],
   "source": [
    "delattr(s1,'name')"
   ]
  },
  {
   "cell_type": "code",
   "execution_count": 28,
   "id": "f5721033",
   "metadata": {},
   "outputs": [
    {
     "data": {
      "text/plain": [
       "{}"
      ]
     },
     "execution_count": 28,
     "metadata": {},
     "output_type": "execute_result"
    }
   ],
   "source": [
    "s1.__dict__\n"
   ]
  },
  {
   "cell_type": "code",
   "execution_count": 2,
   "id": "7fa1985d",
   "metadata": {},
   "outputs": [],
   "source": [
    "class NewStudent:\n",
    "    name='swapy'\n",
    "    password='hello'"
   ]
  },
  {
   "cell_type": "code",
   "execution_count": 4,
   "id": "ed07716f",
   "metadata": {},
   "outputs": [],
   "source": [
    "s2 = NewStudent()"
   ]
  },
  {
   "cell_type": "code",
   "execution_count": 6,
   "id": "c1685cdc",
   "metadata": {},
   "outputs": [
    {
     "data": {
      "text/plain": [
       "'swapy'"
      ]
     },
     "execution_count": 6,
     "metadata": {},
     "output_type": "execute_result"
    }
   ],
   "source": [
    "s2.name"
   ]
  },
  {
   "cell_type": "code",
   "execution_count": 10,
   "id": "5ba7a72e",
   "metadata": {},
   "outputs": [
    {
     "data": {
      "text/plain": [
       "{}"
      ]
     },
     "execution_count": 10,
     "metadata": {},
     "output_type": "execute_result"
    }
   ],
   "source": [
    "s2.__dict__"
   ]
  },
  {
   "cell_type": "code",
   "execution_count": 12,
   "id": "edd49b48",
   "metadata": {},
   "outputs": [
    {
     "name": "stdout",
     "output_type": "stream",
     "text": [
      "<__main__.NewStudent object at 0x0000020E56485040>\n"
     ]
    }
   ],
   "source": [
    "print(s2)"
   ]
  },
  {
   "cell_type": "code",
   "execution_count": 14,
   "id": "68dbfca4",
   "metadata": {},
   "outputs": [
    {
     "data": {
      "text/plain": [
       "'hello'"
      ]
     },
     "execution_count": 14,
     "metadata": {},
     "output_type": "execute_result"
    }
   ],
   "source": [
    "s2.password"
   ]
  },
  {
   "cell_type": "markdown",
   "id": "bc369fef",
   "metadata": {},
   "source": [
    "# Instance Methods"
   ]
  },
  {
   "cell_type": "code",
   "execution_count": 8,
   "id": "157fb7b7",
   "metadata": {},
   "outputs": [],
   "source": [
    "from datetime import date\n",
    "class StudentReturns:\n",
    "    passingPercentage=40\n",
    "    def __init__(self,name,rollNumber,age=15,percentage=80):\n",
    "        self.name = name \n",
    "        self.rollNumber = rollNumber\n",
    "        self.age=age\n",
    "        self.percentage=percentage\n",
    "        \n",
    "    def printStudentDetails(self):\n",
    "        print('My name is ',self.name , 'and rollNo:',self.rollNumber,' age: ',self.age , 'percentage:',self.percentage)\n",
    "        \n",
    "        \n",
    "    def isPassed(self):\n",
    "        if self.percentage > Student.passingPercentage:\n",
    "            print('Student is Passed ')\n",
    "            \n",
    "        else :\n",
    "            print('Student is not Passed ')\n",
    "            \n",
    "     #static methods don't require object binding i.e u don't need to pass self here \n",
    "    @staticmethod\n",
    "    def welcomeToSchool():\n",
    "            print('Welcome to school!')\n",
    "            \n",
    "    @staticmethod\n",
    "    def isTeen(age):\n",
    "        return age>16\n",
    "    \n",
    "    \n",
    "    # class methods or factory methods returns the object of class provided in first argument !\n",
    "    @classmethod\n",
    "    def fromBirthYear(cls,name,rollNo,year,percentage):\n",
    "        return cls(name,rollNo,date.today().year-year,percentage)\n",
    "        \n",
    "        "
   ]
  },
  {
   "cell_type": "code",
   "execution_count": 12,
   "id": "530474c2",
   "metadata": {},
   "outputs": [],
   "source": [
    "stud = StudentReturns('swapy',27)"
   ]
  },
  {
   "cell_type": "code",
   "execution_count": 22,
   "id": "7caf5da1",
   "metadata": {},
   "outputs": [
    {
     "name": "stdout",
     "output_type": "stream",
     "text": [
      "<__main__.StudentReturns object at 0x0000020E5656C130>\n"
     ]
    }
   ],
   "source": [
    "print(stud)"
   ]
  },
  {
   "cell_type": "code",
   "execution_count": 31,
   "id": "330e91f6",
   "metadata": {},
   "outputs": [
    {
     "data": {
      "text/plain": [
       "{'name': 'swapy', 'rollNumber': 27}"
      ]
     },
     "execution_count": 31,
     "metadata": {},
     "output_type": "execute_result"
    }
   ],
   "source": [
    "stud.__dict__"
   ]
  },
  {
   "cell_type": "code",
   "execution_count": 17,
   "id": "116d1d54",
   "metadata": {},
   "outputs": [
    {
     "name": "stdout",
     "output_type": "stream",
     "text": [
      "My name is  swapy and rollNo: 27  age:  15 percentage: 80\n"
     ]
    }
   ],
   "source": [
    "stud.printStudentDetails()"
   ]
  },
  {
   "cell_type": "markdown",
   "id": "64da35bf",
   "metadata": {},
   "source": [
    "#### actual interpretation of above code "
   ]
  },
  {
   "cell_type": "code",
   "execution_count": 18,
   "id": "bf1fa27a",
   "metadata": {},
   "outputs": [
    {
     "name": "stdout",
     "output_type": "stream",
     "text": [
      "My name is  swapy and rollNo: 27  age:  15 percentage: 80\n"
     ]
    }
   ],
   "source": [
    "StudentReturns.printStudentDetails(stud)"
   ]
  },
  {
   "cell_type": "code",
   "execution_count": 14,
   "id": "366140d6",
   "metadata": {
    "scrolled": true
   },
   "outputs": [
    {
     "name": "stdout",
     "output_type": "stream",
     "text": [
      "Welcome to school!\n"
     ]
    }
   ],
   "source": [
    "stud.welcomeToSchool()"
   ]
  },
  {
   "cell_type": "code",
   "execution_count": 10,
   "id": "25e04ac6",
   "metadata": {},
   "outputs": [],
   "source": [
    "s2= StudentReturns.fromBirthYear(\"Swap\",27,2000,89)"
   ]
  },
  {
   "cell_type": "code",
   "execution_count": 11,
   "id": "bc2b738a",
   "metadata": {},
   "outputs": [
    {
     "data": {
      "text/plain": [
       "{'name': 'Swap', 'rollNumber': 27, 'age': 22, 'percentage': 89}"
      ]
     },
     "execution_count": 11,
     "metadata": {},
     "output_type": "execute_result"
    }
   ],
   "source": [
    "s2.__dict__"
   ]
  }
 ],
 "metadata": {
  "kernelspec": {
   "display_name": "Python 3",
   "language": "python",
   "name": "python3"
  },
  "language_info": {
   "codemirror_mode": {
    "name": "ipython",
    "version": 3
   },
   "file_extension": ".py",
   "mimetype": "text/x-python",
   "name": "python",
   "nbconvert_exporter": "python",
   "pygments_lexer": "ipython3",
   "version": "3.8.8"
  }
 },
 "nbformat": 4,
 "nbformat_minor": 5
}
