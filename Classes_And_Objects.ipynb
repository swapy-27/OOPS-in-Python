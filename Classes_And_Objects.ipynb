{
 "cells": [
  {
   "cell_type": "code",
   "execution_count": 15,
   "id": "38cffc99",
   "metadata": {},
   "outputs": [],
   "source": [
    "class Student:\n",
    "    pass"
   ]
  },
  {
   "cell_type": "code",
   "execution_count": 8,
   "id": "14643017",
   "metadata": {},
   "outputs": [],
   "source": [
    "s1 = Student()"
   ]
  },
  {
   "cell_type": "code",
   "execution_count": 10,
   "id": "ba6906c1",
   "metadata": {},
   "outputs": [
    {
     "name": "stdout",
     "output_type": "stream",
     "text": [
      "<__main__.Student object at 0x000002359BF46850>\n"
     ]
    }
   ],
   "source": [
    "print(s1)"
   ]
  },
  {
   "cell_type": "code",
   "execution_count": 9,
   "id": "f8b265fb",
   "metadata": {},
   "outputs": [
    {
     "data": {
      "text/plain": [
       "{}"
      ]
     },
     "execution_count": 9,
     "metadata": {},
     "output_type": "execute_result"
    }
   ],
   "source": [
    "s1.__dict__"
   ]
  },
  {
   "cell_type": "code",
   "execution_count": 11,
   "id": "99dd670b",
   "metadata": {},
   "outputs": [],
   "source": [
    "s1.name='swapnil'"
   ]
  },
  {
   "cell_type": "code",
   "execution_count": 16,
   "id": "7a1c03a4",
   "metadata": {},
   "outputs": [
    {
     "data": {
      "text/plain": [
       "{'name': 'swapnil'}"
      ]
     },
     "execution_count": 16,
     "metadata": {},
     "output_type": "execute_result"
    }
   ],
   "source": [
    "s1.__dict__"
   ]
  },
  {
   "cell_type": "code",
   "execution_count": 19,
   "id": "c7245437",
   "metadata": {},
   "outputs": [
    {
     "data": {
      "text/plain": [
       "True"
      ]
     },
     "execution_count": 19,
     "metadata": {},
     "output_type": "execute_result"
    }
   ],
   "source": [
    "hasattr(s1,'name')"
   ]
  },
  {
   "cell_type": "code",
   "execution_count": 20,
   "id": "82805834",
   "metadata": {},
   "outputs": [],
   "source": [
    "s2=Student()"
   ]
  },
  {
   "cell_type": "code",
   "execution_count": 22,
   "id": "63d5f86d",
   "metadata": {},
   "outputs": [
    {
     "data": {
      "text/plain": [
       "False"
      ]
     },
     "execution_count": 22,
     "metadata": {},
     "output_type": "execute_result"
    }
   ],
   "source": [
    "hasattr(s2,'name')"
   ]
  },
  {
   "cell_type": "code",
   "execution_count": 23,
   "id": "b1ad767a",
   "metadata": {},
   "outputs": [
    {
     "data": {
      "text/plain": [
       "'swapnil'"
      ]
     },
     "execution_count": 23,
     "metadata": {},
     "output_type": "execute_result"
    }
   ],
   "source": [
    "getattr(s1,'name')"
   ]
  },
  {
   "cell_type": "markdown",
   "id": "a716c078",
   "metadata": {},
   "source": [
    "if attribute is not present it will give third argument that is default value"
   ]
  },
  {
   "cell_type": "code",
   "execution_count": 24,
   "id": "a70effcb",
   "metadata": {},
   "outputs": [
    {
     "data": {
      "text/plain": [
       "'hello'"
      ]
     },
     "execution_count": 24,
     "metadata": {},
     "output_type": "execute_result"
    }
   ],
   "source": [
    "getattr(s2,'name','hello')"
   ]
  },
  {
   "cell_type": "code",
   "execution_count": 25,
   "id": "0a37fa22",
   "metadata": {},
   "outputs": [
    {
     "data": {
      "text/plain": [
       "'swapnil'"
      ]
     },
     "execution_count": 25,
     "metadata": {},
     "output_type": "execute_result"
    }
   ],
   "source": [
    "getattr(s1,'name','hello')"
   ]
  },
  {
   "cell_type": "code",
   "execution_count": 27,
   "id": "92ce2f4e",
   "metadata": {},
   "outputs": [
    {
     "ename": "AttributeError",
     "evalue": "name",
     "output_type": "error",
     "traceback": [
      "\u001b[1;31m---------------------------------------------------------------------------\u001b[0m",
      "\u001b[1;31mAttributeError\u001b[0m                            Traceback (most recent call last)",
      "\u001b[1;32m<ipython-input-27-ef5681c3095e>\u001b[0m in \u001b[0;36m<module>\u001b[1;34m\u001b[0m\n\u001b[1;32m----> 1\u001b[1;33m \u001b[0mdelattr\u001b[0m\u001b[1;33m(\u001b[0m\u001b[0ms1\u001b[0m\u001b[1;33m,\u001b[0m\u001b[1;34m'name'\u001b[0m\u001b[1;33m)\u001b[0m\u001b[1;33m\u001b[0m\u001b[1;33m\u001b[0m\u001b[0m\n\u001b[0m",
      "\u001b[1;31mAttributeError\u001b[0m: name"
     ]
    }
   ],
   "source": [
    "delattr(s1,'name')"
   ]
  },
  {
   "cell_type": "code",
   "execution_count": 28,
   "id": "f5721033",
   "metadata": {},
   "outputs": [
    {
     "data": {
      "text/plain": [
       "{}"
      ]
     },
     "execution_count": 28,
     "metadata": {},
     "output_type": "execute_result"
    }
   ],
   "source": [
    "s1.__dict__\n"
   ]
  },
  {
   "cell_type": "code",
   "execution_count": 2,
   "id": "7fa1985d",
   "metadata": {},
   "outputs": [],
   "source": [
    "class NewStudent:\n",
    "    name='swapy'\n",
    "    password='hello'"
   ]
  },
  {
   "cell_type": "code",
   "execution_count": 4,
   "id": "cc61334a",
   "metadata": {},
   "outputs": [],
   "source": [
    "s2 = NewStudent()"
   ]
  },
  {
   "cell_type": "code",
   "execution_count": 6,
   "id": "b5f8d086",
   "metadata": {},
   "outputs": [
    {
     "data": {
      "text/plain": [
       "'swapy'"
      ]
     },
     "execution_count": 6,
     "metadata": {},
     "output_type": "execute_result"
    }
   ],
   "source": [
    "s2.name"
   ]
  },
  {
   "cell_type": "code",
   "execution_count": 10,
   "id": "12745b37",
   "metadata": {},
   "outputs": [
    {
     "data": {
      "text/plain": [
       "{}"
      ]
     },
     "execution_count": 10,
     "metadata": {},
     "output_type": "execute_result"
    }
   ],
   "source": [
    "s2.__dict__"
   ]
  },
  {
   "cell_type": "code",
   "execution_count": 12,
   "id": "64bad8ed",
   "metadata": {},
   "outputs": [
    {
     "name": "stdout",
     "output_type": "stream",
     "text": [
      "<__main__.NewStudent object at 0x0000020E56485040>\n"
     ]
    }
   ],
   "source": [
    "print(s2)"
   ]
  },
  {
   "cell_type": "code",
   "execution_count": 14,
   "id": "fb07126f",
   "metadata": {},
   "outputs": [
    {
     "data": {
      "text/plain": [
       "'hello'"
      ]
     },
     "execution_count": 14,
     "metadata": {},
     "output_type": "execute_result"
    }
   ],
   "source": [
    "s2.password"
   ]
  },
  {
   "cell_type": "markdown",
   "id": "1f758e9e",
   "metadata": {},
   "source": [
    "# Instance Methods"
   ]
  },
  {
   "cell_type": "code",
   "execution_count": 29,
   "id": "967e4b34",
   "metadata": {},
   "outputs": [],
   "source": [
    "class StudentReturns:\n",
    "    def __init__(self,name,rollNumber):\n",
    "        self.name = name \n",
    "        self.rollNumber = rollNumber\n",
    "    def printStudentDetails(self,age):\n",
    "        print('My name is ',self.name , 'and rollNo:',self.rollNumber,' age: ',age)\n",
    "        "
   ]
  },
  {
   "cell_type": "code",
   "execution_count": 30,
   "id": "8244de11",
   "metadata": {},
   "outputs": [],
   "source": [
    "stud = StudentReturns('swapy',27)"
   ]
  },
  {
   "cell_type": "code",
   "execution_count": 22,
   "id": "a45e64a6",
   "metadata": {},
   "outputs": [
    {
     "name": "stdout",
     "output_type": "stream",
     "text": [
      "<__main__.StudentReturns object at 0x0000020E5656C130>\n"
     ]
    }
   ],
   "source": [
    "print(stud)"
   ]
  },
  {
   "cell_type": "code",
   "execution_count": 31,
   "id": "41acb0a2",
   "metadata": {},
   "outputs": [
    {
     "data": {
      "text/plain": [
       "{'name': 'swapy', 'rollNumber': 27}"
      ]
     },
     "execution_count": 31,
     "metadata": {},
     "output_type": "execute_result"
    }
   ],
   "source": [
    "stud.__dict__"
   ]
  },
  {
   "cell_type": "code",
   "execution_count": 35,
   "id": "fdb9e408",
   "metadata": {},
   "outputs": [
    {
     "name": "stdout",
     "output_type": "stream",
     "text": [
      "My name is  swapy and rollNo: 27  age:  22\n"
     ]
    }
   ],
   "source": [
    "stud.printStudentDetails(22)"
   ]
  },
  {
   "cell_type": "markdown",
   "id": "9e253d90",
   "metadata": {},
   "source": [
    "#### actual interpretation of above code "
   ]
  },
  {
   "cell_type": "code",
   "execution_count": 40,
   "id": "b785ef66",
   "metadata": {},
   "outputs": [
    {
     "name": "stdout",
     "output_type": "stream",
     "text": [
      "My name is  swapy and rollNo: 27  age:  22\n"
     ]
    }
   ],
   "source": [
    "StudentReturns.printStudentDetails(stud,22)"
   ]
  },
  {
   "cell_type": "code",
   "execution_count": null,
   "id": "3ba50f1f",
   "metadata": {},
   "outputs": [],
   "source": []
  }
 ],
 "metadata": {
  "kernelspec": {
   "display_name": "Python 3",
   "language": "python",
   "name": "python3"
  },
  "language_info": {
   "codemirror_mode": {
    "name": "ipython",
    "version": 3
   },
   "file_extension": ".py",
   "mimetype": "text/x-python",
   "name": "python",
   "nbconvert_exporter": "python",
   "pygments_lexer": "ipython3",
   "version": "3.8.8"
  }
 },
 "nbformat": 4,
 "nbformat_minor": 5
}
