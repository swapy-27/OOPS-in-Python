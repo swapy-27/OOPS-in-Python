{
 "cells": [
  {
   "cell_type": "code",
   "execution_count": 1,
   "id": "ebd291e0",
   "metadata": {},
   "outputs": [],
   "source": [
    "class Fraction :\n",
    "    def __init__(self,numerator=0,denominator=1):\n",
    "        self.numerator = numerator\n",
    "        self.denominator=denominator\n",
    "    "
   ]
  },
  {
   "cell_type": "code",
   "execution_count": 3,
   "id": "7b83aa0b",
   "metadata": {},
   "outputs": [],
   "source": [
    "f= Fraction()"
   ]
  },
  {
   "cell_type": "code",
   "execution_count": 5,
   "id": "0b9a05a0",
   "metadata": {},
   "outputs": [
    {
     "data": {
      "text/plain": [
       "{'numerator': 0, 'denominator': 1}"
      ]
     },
     "execution_count": 5,
     "metadata": {},
     "output_type": "execute_result"
    }
   ],
   "source": [
    "f.__dict__"
   ]
  },
  {
   "cell_type": "code",
   "execution_count": 7,
   "id": "2796e029",
   "metadata": {},
   "outputs": [],
   "source": [
    "f1=Fraction(2,3)"
   ]
  },
  {
   "cell_type": "code",
   "execution_count": 9,
   "id": "a8580c77",
   "metadata": {},
   "outputs": [
    {
     "data": {
      "text/plain": [
       "{'numerator': 2, 'denominator': 3}"
      ]
     },
     "execution_count": 9,
     "metadata": {},
     "output_type": "execute_result"
    }
   ],
   "source": [
    "f1.__dict__"
   ]
  },
  {
   "cell_type": "code",
   "execution_count": 11,
   "id": "320fa6ae",
   "metadata": {},
   "outputs": [],
   "source": [
    "f2=Fraction(2)"
   ]
  },
  {
   "cell_type": "code",
   "execution_count": 13,
   "id": "fb5783d0",
   "metadata": {},
   "outputs": [
    {
     "data": {
      "text/plain": [
       "{'numerator': 2, 'denominator': 1}"
      ]
     },
     "execution_count": 13,
     "metadata": {},
     "output_type": "execute_result"
    }
   ],
   "source": [
    "f2.__dict__"
   ]
  },
  {
   "cell_type": "code",
   "execution_count": 18,
   "id": "35826450",
   "metadata": {},
   "outputs": [],
   "source": [
    "class Complex:\n",
    "    def  __init__(self,real,img):\n",
    "        self.real = real\n",
    "        self.img = img\n",
    "    def plus(self,num):\n",
    "        self.real= self.real+num.real\n",
    "        self.img = self.img + num.img\n",
    "    def multiply (self,num):\n",
    "        self.real= self.real*num.real\n",
    "        self.img = self.img * num.img\n",
    "        \n",
    "    def printVal(self):\n",
    "        print(self.real,'+','i',end='')\n",
    "        print(self.img)\n",
    "        \n",
    "        "
   ]
  },
  {
   "cell_type": "code",
   "execution_count": 19,
   "id": "2c77ab64",
   "metadata": {},
   "outputs": [],
   "source": [
    "c1= Complex(2,3)"
   ]
  },
  {
   "cell_type": "code",
   "execution_count": 20,
   "id": "834d0c1a",
   "metadata": {},
   "outputs": [
    {
     "name": "stdout",
     "output_type": "stream",
     "text": [
      "2 + i3\n"
     ]
    }
   ],
   "source": [
    "c1.printVal()"
   ]
  },
  {
   "cell_type": "code",
   "execution_count": 21,
   "id": "c086665b",
   "metadata": {},
   "outputs": [],
   "source": [
    "c2=Complex(5,6)"
   ]
  },
  {
   "cell_type": "code",
   "execution_count": 23,
   "id": "3f61c55e",
   "metadata": {},
   "outputs": [
    {
     "name": "stdout",
     "output_type": "stream",
     "text": [
      "5 + i6\n"
     ]
    }
   ],
   "source": [
    "c2.printVal()"
   ]
  },
  {
   "cell_type": "code",
   "execution_count": 24,
   "id": "ce092352",
   "metadata": {},
   "outputs": [],
   "source": [
    "c1.multiply(c2)"
   ]
  },
  {
   "cell_type": "code",
   "execution_count": 25,
   "id": "7f7fdc70",
   "metadata": {},
   "outputs": [
    {
     "name": "stdout",
     "output_type": "stream",
     "text": [
      "10 + i18\n"
     ]
    }
   ],
   "source": [
    "c1.printVal()"
   ]
  },
  {
   "cell_type": "code",
   "execution_count": 26,
   "id": "30d77fac",
   "metadata": {},
   "outputs": [],
   "source": [
    "c2.plus(c1)"
   ]
  },
  {
   "cell_type": "code",
   "execution_count": 27,
   "id": "92791383",
   "metadata": {},
   "outputs": [
    {
     "name": "stdout",
     "output_type": "stream",
     "text": [
      "15 + i24\n"
     ]
    }
   ],
   "source": [
    "c2.printVal()"
   ]
  },
  {
   "cell_type": "code",
   "execution_count": null,
   "id": "7afbc4f4",
   "metadata": {},
   "outputs": [],
   "source": []
  }
 ],
 "metadata": {
  "kernelspec": {
   "display_name": "Python 3",
   "language": "python",
   "name": "python3"
  },
  "language_info": {
   "codemirror_mode": {
    "name": "ipython",
    "version": 3
   },
   "file_extension": ".py",
   "mimetype": "text/x-python",
   "name": "python",
   "nbconvert_exporter": "python",
   "pygments_lexer": "ipython3",
   "version": "3.8.8"
  }
 },
 "nbformat": 4,
 "nbformat_minor": 5
}
