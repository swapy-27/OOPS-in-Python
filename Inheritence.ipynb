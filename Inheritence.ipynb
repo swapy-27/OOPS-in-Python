{
 "cells": [
  {
   "cell_type": "code",
   "execution_count": 20,
   "id": "abc506d8",
   "metadata": {},
   "outputs": [],
   "source": [
    "class Vehicle:\n",
    "    def __init__(self,color,maxSpeed,alloyWheel):\n",
    "        self.color = color \n",
    "        self.maxSpeed = maxSpeed\n",
    "        \n",
    "        #right way to acess private members ast they are accessible within sameclass so we can create getter setter for it .\n",
    "        self.__alloyWheel = alloyWheel\n",
    "        \n",
    "    def setAlloyWheel (self,alloyWheel):\n",
    "        self.__alloyWheel = alloyWheel\n",
    "        \n",
    "    def getAlloyWheel(self):\n",
    "        return self.__alloyWheel\n",
    "    \n",
    "    def printValues(self):\n",
    "        print(\"Color :\",self.color)\n",
    "        print('Alloy-wheel : ',self.__alloyWheel)\n",
    "        print(\"Max-Speed :\",self.maxSpeed)"
   ]
  },
  {
   "cell_type": "code",
   "execution_count": 21,
   "id": "3005ca1d",
   "metadata": {},
   "outputs": [],
   "source": [
    "class Car(Vehicle):\n",
    "    def __init__(self,color,maxSpeed,numGears,isConvertible,alloyWheel):\n",
    "        super().__init__(color,maxSpeed,alloyWheel)\n",
    "        self.numGears=numGears\n",
    "        self.isConvertible=isConvertible\n",
    "        \n",
    "    def printCar(self):\n",
    "        print(\"isConvertible :\",self.isConvertible)\n",
    "        print(\"Num-Gears :\",self.numGears)\n",
    "        print(self.printValues())"
   ]
  },
  {
   "cell_type": "code",
   "execution_count": 22,
   "id": "7c73cc2a",
   "metadata": {},
   "outputs": [],
   "source": [
    "c= Car('black',200,5,'no','yes')"
   ]
  },
  {
   "cell_type": "code",
   "execution_count": 23,
   "id": "bd9403f9",
   "metadata": {},
   "outputs": [
    {
     "name": "stdout",
     "output_type": "stream",
     "text": [
      "isConvertible : no\n",
      "Num-Gears : 5\n",
      "Color : black\n",
      "Alloy-wheel :  yes\n",
      "Max-Speed : 200\n",
      "None\n"
     ]
    }
   ],
   "source": [
    "c.printCar()"
   ]
  },
  {
   "cell_type": "markdown",
   "id": "439031a8",
   "metadata": {},
   "source": [
    "### Multiple Inheritence"
   ]
  },
  {
   "cell_type": "code",
   "execution_count": 18,
   "id": "a642e99a",
   "metadata": {},
   "outputs": [],
   "source": [
    "class Father :\n",
    "    def __init__(self):\n",
    "        self.name=\"Howard Stark\"\n",
    "    "
   ]
  },
  {
   "cell_type": "code",
   "execution_count": 21,
   "id": "be6884a9",
   "metadata": {},
   "outputs": [],
   "source": [
    "class Mother() :\n",
    "    def __init__(self):\n",
    "        self.name=\"i don't know\""
   ]
  },
  {
   "cell_type": "code",
   "execution_count": 23,
   "id": "2784124e",
   "metadata": {},
   "outputs": [],
   "source": [
    "class Child(Mother,Father):\n",
    "    def __init__(self):\n",
    "        self.name=\"Tony Stark\""
   ]
  },
  {
   "cell_type": "code",
   "execution_count": 25,
   "id": "b36963f0",
   "metadata": {},
   "outputs": [],
   "source": [
    "c = Child()"
   ]
  },
  {
   "cell_type": "code",
   "execution_count": 27,
   "id": "37a2723d",
   "metadata": {},
   "outputs": [
    {
     "data": {
      "text/plain": [
       "'Tony Stark'"
      ]
     },
     "execution_count": 27,
     "metadata": {},
     "output_type": "execute_result"
    }
   ],
   "source": [
    "c.name"
   ]
  },
  {
   "cell_type": "code",
   "execution_count": 28,
   "id": "e91dcb74",
   "metadata": {},
   "outputs": [
    {
     "data": {
      "text/plain": [
       "[__main__.Child, __main__.Mother, __main__.Father, object]"
      ]
     },
     "execution_count": 28,
     "metadata": {},
     "output_type": "execute_result"
    }
   ],
   "source": [
    "Child.mro()"
   ]
  }
 ],
 "metadata": {
  "kernelspec": {
   "display_name": "Python 3",
   "language": "python",
   "name": "python3"
  },
  "language_info": {
   "codemirror_mode": {
    "name": "ipython",
    "version": 3
   },
   "file_extension": ".py",
   "mimetype": "text/x-python",
   "name": "python",
   "nbconvert_exporter": "python",
   "pygments_lexer": "ipython3",
   "version": "3.8.8"
  }
 },
 "nbformat": 4,
 "nbformat_minor": 5
}
