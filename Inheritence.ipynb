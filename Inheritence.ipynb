{
 "cells": [
  {
   "cell_type": "code",
   "execution_count": 20,
   "id": "abc506d8",
   "metadata": {},
   "outputs": [],
   "source": [
    "class Vehicle:\n",
    "    def __init__(self,color,maxSpeed,alloyWheel):\n",
    "        self.color = color \n",
    "        self.maxSpeed = maxSpeed\n",
    "        \n",
    "        #right way to acess private members ast they are accessible within sameclass so we can create getter setter for it .\n",
    "        self.__alloyWheel = alloyWheel\n",
    "        \n",
    "    def setAlloyWheel (self,alloyWheel):\n",
    "        self.__alloyWheel = alloyWheel\n",
    "        \n",
    "    def getAlloyWheel(self):\n",
    "        return self.__alloyWheel\n",
    "    \n",
    "    def printValues(self):\n",
    "        print(\"Color :\",self.color)\n",
    "        print('Alloy-wheel : ',self.__alloyWheel)\n",
    "        print(\"Max-Speed :\",self.maxSpeed)"
   ]
  },
  {
   "cell_type": "code",
   "execution_count": 21,
   "id": "3005ca1d",
   "metadata": {},
   "outputs": [],
   "source": [
    "class Car(Vehicle):\n",
    "    def __init__(self,color,maxSpeed,numGears,isConvertible,alloyWheel):\n",
    "        super().__init__(color,maxSpeed,alloyWheel)\n",
    "        self.numGears=numGears\n",
    "        self.isConvertible=isConvertible\n",
    "        \n",
    "    def printCar(self):\n",
    "        print(\"isConvertible :\",self.isConvertible)\n",
    "        print(\"Num-Gears :\",self.numGears)\n",
    "        print(self.printValues())"
   ]
  },
  {
   "cell_type": "code",
   "execution_count": 22,
   "id": "7c73cc2a",
   "metadata": {},
   "outputs": [],
   "source": [
    "c= Car('black',200,5,'no','yes')"
   ]
  },
  {
   "cell_type": "code",
   "execution_count": 23,
   "id": "bd9403f9",
   "metadata": {},
   "outputs": [
    {
     "name": "stdout",
     "output_type": "stream",
     "text": [
      "isConvertible : no\n",
      "Num-Gears : 5\n",
      "Color : black\n",
      "Alloy-wheel :  yes\n",
      "Max-Speed : 200\n",
      "None\n"
     ]
    }
   ],
   "source": [
    "c.printCar()"
   ]
  },
  {
   "cell_type": "markdown",
   "id": "439031a8",
   "metadata": {},
   "source": [
    "### Multiple Inheritence"
   ]
  },
  {
   "cell_type": "code",
   "execution_count": null,
   "id": "a642e99a",
   "metadata": {},
   "outputs": [],
   "source": []
  },
  {
   "cell_type": "markdown",
   "id": "801ea099",
   "metadata": {},
   "source": [
    "### Operator Overloading "
   ]
  },
  {
   "cell_type": "code",
   "execution_count": 8,
   "id": "3249e254",
   "metadata": {},
   "outputs": [],
   "source": [
    "import math\n",
    "\n",
    "class Point :\n",
    "    def __init__(self,x,y):\n",
    "        self.__x=x\n",
    "        self.__y=y\n",
    "        \n",
    "    def __str__(self):\n",
    "        print(\"This is a point at\"+\"(\"+str(self.__x)+\",\"+str(self.__y)+\")\")\n",
    "        \n",
    "    \n",
    "    def __add__ (self,point_object):\n",
    "        return Point(self.__x+point_object.__x,self.__y+point_object.__y)\n",
    "    \n",
    "    def __gt__(self,point_obj):\n",
    "        return math.sqrt(self.__x**2 + self.__y**2) > math.sqrt(point_obj.__x**2 + point_obj.__y**2)\n",
    "    \n",
    "    "
   ]
  },
  {
   "cell_type": "code",
   "execution_count": 9,
   "id": "0f200a2f",
   "metadata": {},
   "outputs": [],
   "source": [
    "p1 = Point(2,3)\n",
    "p2=Point(4,5)\n"
   ]
  },
  {
   "cell_type": "code",
   "execution_count": 10,
   "id": "260726e1",
   "metadata": {},
   "outputs": [],
   "source": [
    "p3=p1+p2"
   ]
  },
  {
   "cell_type": "code",
   "execution_count": 13,
   "id": "e3c489cc",
   "metadata": {},
   "outputs": [
    {
     "data": {
      "text/plain": [
       "{'_Point__x': 6, '_Point__y': 8}"
      ]
     },
     "execution_count": 13,
     "metadata": {},
     "output_type": "execute_result"
    }
   ],
   "source": [
    "p3.__dict__"
   ]
  },
  {
   "cell_type": "code",
   "execution_count": null,
   "id": "26444642",
   "metadata": {},
   "outputs": [],
   "source": [
    "print(p2>p1)"
   ]
  }
 ],
 "metadata": {
  "kernelspec": {
   "display_name": "Python 3",
   "language": "python",
   "name": "python3"
  },
  "language_info": {
   "codemirror_mode": {
    "name": "ipython",
    "version": 3
   },
   "file_extension": ".py",
   "mimetype": "text/x-python",
   "name": "python",
   "nbconvert_exporter": "python",
   "pygments_lexer": "ipython3",
   "version": "3.8.8"
  }
 },
 "nbformat": 4,
 "nbformat_minor": 5
}
