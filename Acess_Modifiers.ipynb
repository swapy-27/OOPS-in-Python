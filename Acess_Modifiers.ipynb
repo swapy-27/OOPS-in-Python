{
 "cells": [
  {
   "cell_type": "markdown",
   "id": "3fe59f94",
   "metadata": {},
   "source": [
    "simple concept of private is u should not be able to acess methods or variables from outside class i.e through objects "
   ]
  },
  {
   "cell_type": "code",
   "execution_count": 15,
   "id": "b8b51011",
   "metadata": {},
   "outputs": [],
   "source": [
    "from datetime import date\n",
    "class Student:\n",
    "    passingPercentage=40\n",
    "    def __init__(self,name,rollNumber,age=15,percentage=80):\n",
    "        #to make anything private just put __ before it\n",
    "        self.__name = name \n",
    "        #By default everything else is public only\n",
    "        self.rollNumber = rollNumber\n",
    "        self.age=age\n",
    "        self.percentage=percentage\n",
    "        \n",
    "    def printStudentDetails(self):\n",
    "        print('My name is ',self.__name , 'and rollNo:',self.rollNumber,' age: ',self.age , 'percentage:',self.percentage)\n",
    "        \n",
    "        \n",
    "    def isPassed(self):\n",
    "        if self.percentage > Student.passingPercentage:\n",
    "            print('Student is Passed ')\n",
    "            \n",
    "        else :\n",
    "            print('Student is not Passed ')\n",
    "            \n",
    "     #static methods don't require object binding i.e u don't need to pass self here \n",
    "    @staticmethod\n",
    "    def welcomeToSchool():\n",
    "            print('Welcome to school!')\n",
    "            \n",
    "    @staticmethod\n",
    "    def isTeen(age):\n",
    "        return age>16\n",
    "    \n",
    "    \n",
    "    # class methods or factory methods returns the object of class provided in first argument !\n",
    "    @classmethod\n",
    "    def fromBirthYear(cls,name,rollNo,year,percentage):\n",
    "        return cls(name,rollNo,date.today().year-year,percentage)\n",
    "        "
   ]
  },
  {
   "cell_type": "code",
   "execution_count": 16,
   "id": "449be5f3",
   "metadata": {},
   "outputs": [],
   "source": [
    "s1= Student('swap',27)"
   ]
  },
  {
   "cell_type": "code",
   "execution_count": 4,
   "id": "8350c5e5",
   "metadata": {},
   "outputs": [
    {
     "data": {
      "text/plain": [
       "{'_Student__name': 'swap', 'rollNumber': 27, 'age': 15, 'percentage': 80}"
      ]
     },
     "execution_count": 4,
     "metadata": {},
     "output_type": "execute_result"
    }
   ],
   "source": [
    "s1.__dict__\n"
   ]
  },
  {
   "cell_type": "code",
   "execution_count": 8,
   "id": "03709b7c",
   "metadata": {},
   "outputs": [],
   "source": [
    "s1.__name='Goku'"
   ]
  },
  {
   "cell_type": "code",
   "execution_count": 10,
   "id": "53a17362",
   "metadata": {},
   "outputs": [
    {
     "data": {
      "text/plain": [
       "{'_Student__name': 'swap',\n",
       " 'rollNumber': 27,\n",
       " 'age': 15,\n",
       " 'percentage': 80,\n",
       " 'name': 'Goku',\n",
       " '__name': 'Goku'}"
      ]
     },
     "execution_count": 10,
     "metadata": {},
     "output_type": "execute_result"
    }
   ],
   "source": [
    "s1.__dict__"
   ]
  },
  {
   "cell_type": "code",
   "execution_count": 12,
   "id": "ea427834",
   "metadata": {},
   "outputs": [],
   "source": [
    "s1.age=17"
   ]
  },
  {
   "cell_type": "code",
   "execution_count": 14,
   "id": "c33f249e",
   "metadata": {},
   "outputs": [
    {
     "data": {
      "text/plain": [
       "{'_Student__name': 'swap',\n",
       " 'rollNumber': 27,\n",
       " 'age': 17,\n",
       " 'percentage': 80,\n",
       " 'name': 'Goku',\n",
       " '__name': 'Goku'}"
      ]
     },
     "execution_count": 14,
     "metadata": {},
     "output_type": "execute_result"
    }
   ],
   "source": [
    "s1.__dict__"
   ]
  },
  {
   "cell_type": "code",
   "execution_count": 18,
   "id": "9f9444aa",
   "metadata": {},
   "outputs": [
    {
     "name": "stdout",
     "output_type": "stream",
     "text": [
      "My name is  swap and rollNo: 27  age:  15 percentage: 80\n"
     ]
    }
   ],
   "source": [
    "s1.printStudentDetails()"
   ]
  },
  {
   "cell_type": "code",
   "execution_count": 20,
   "id": "816e7978",
   "metadata": {
    "scrolled": true
   },
   "outputs": [
    {
     "ename": "AttributeError",
     "evalue": "'Student' object has no attribute '__name'",
     "output_type": "error",
     "traceback": [
      "\u001b[1;31m---------------------------------------------------------------------------\u001b[0m",
      "\u001b[1;31mAttributeError\u001b[0m                            Traceback (most recent call last)",
      "\u001b[1;32m<ipython-input-20-e40ce41521fe>\u001b[0m in \u001b[0;36m<module>\u001b[1;34m\u001b[0m\n\u001b[1;32m----> 1\u001b[1;33m \u001b[0mprint\u001b[0m\u001b[1;33m(\u001b[0m\u001b[0ms1\u001b[0m\u001b[1;33m.\u001b[0m\u001b[0m__name\u001b[0m\u001b[1;33m)\u001b[0m\u001b[1;33m\u001b[0m\u001b[1;33m\u001b[0m\u001b[0m\n\u001b[0m",
      "\u001b[1;31mAttributeError\u001b[0m: 'Student' object has no attribute '__name'"
     ]
    }
   ],
   "source": [
    "print(s1.__name)"
   ]
  },
  {
   "cell_type": "code",
   "execution_count": 22,
   "id": "98061c22",
   "metadata": {
    "scrolled": true
   },
   "outputs": [
    {
     "ename": "AttributeError",
     "evalue": "'Student' object has no attribute 'name'",
     "output_type": "error",
     "traceback": [
      "\u001b[1;31m---------------------------------------------------------------------------\u001b[0m",
      "\u001b[1;31mAttributeError\u001b[0m                            Traceback (most recent call last)",
      "\u001b[1;32m<ipython-input-22-4fbac6d44e97>\u001b[0m in \u001b[0;36m<module>\u001b[1;34m\u001b[0m\n\u001b[1;32m----> 1\u001b[1;33m \u001b[0mprint\u001b[0m\u001b[1;33m(\u001b[0m\u001b[0ms1\u001b[0m\u001b[1;33m.\u001b[0m\u001b[0mname\u001b[0m\u001b[1;33m)\u001b[0m\u001b[1;33m\u001b[0m\u001b[1;33m\u001b[0m\u001b[0m\n\u001b[0m",
      "\u001b[1;31mAttributeError\u001b[0m: 'Student' object has no attribute 'name'"
     ]
    }
   ],
   "source": [
    "print(s1.name)"
   ]
  },
  {
   "cell_type": "code",
   "execution_count": 23,
   "id": "652ec954",
   "metadata": {},
   "outputs": [],
   "source": [
    "# there is a way to acess private modifiers using NAME MANGLING but it is not good practice to use by developers"
   ]
  },
  {
   "cell_type": "code",
   "execution_count": null,
   "id": "d541fe7d",
   "metadata": {},
   "outputs": [],
   "source": [
    "s1._Student__name)"
   ]
  }
 ],
 "metadata": {
  "kernelspec": {
   "display_name": "Python 3",
   "language": "python",
   "name": "python3"
  },
  "language_info": {
   "codemirror_mode": {
    "name": "ipython",
    "version": 3
   },
   "file_extension": ".py",
   "mimetype": "text/x-python",
   "name": "python",
   "nbconvert_exporter": "python",
   "pygments_lexer": "ipython3",
   "version": "3.8.8"
  }
 },
 "nbformat": 4,
 "nbformat_minor": 5
}
