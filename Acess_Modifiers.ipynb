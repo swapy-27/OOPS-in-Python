{
 "cells": [
  {
   "cell_type": "markdown",
   "id": "9d99d94f",
   "metadata": {},
   "source": [
    "simple concept of private is u should not be able to acess methods or variables from outside class i.e through objects "
   ]
  },
  {
   "cell_type": "code",
   "execution_count": 1,
   "id": "ff37901a",
   "metadata": {},
   "outputs": [],
   "source": [
    "from datetime import date\n",
    "class Student:\n",
    "    passingPercentage=40\n",
    "    def __init__(self,name,rollNumber,age=15,percentage=80):\n",
    "        #to make anything private just put __ before it\n",
    "        self.__name = name \n",
    "        #By default everything else is public only\n",
    "        self.rollNumber = rollNumber\n",
    "        self.age=age\n",
    "        self.percentage=percentage\n",
    "        \n",
    "    def printStudentDetails(self):\n",
    "        print('My name is ',self.__name , 'and rollNo:',self.rollNumber,' age: ',self.age , 'percentage:',self.percentage)\n",
    "        \n",
    "        \n",
    "    def isPassed(self):\n",
    "        if self.percentage > Student.passingPercentage:\n",
    "            print('Student is Passed ')\n",
    "            \n",
    "        else :\n",
    "            print('Student is not Passed ')\n",
    "            \n",
    "     #static methods don't require object binding i.e u don't need to pass self here \n",
    "    @staticmethod\n",
    "    def welcomeToSchool():\n",
    "            print('Welcome to school!')\n",
    "            \n",
    "    @staticmethod\n",
    "    def isTeen(age):\n",
    "        return age>16\n",
    "    \n",
    "    \n",
    "    # class methods or factory methods returns the object of class provided in first argument !\n",
    "    @classmethod\n",
    "    def fromBirthYear(cls,name,rollNo,year,percentage):\n",
    "        return cls(name,rollNo,date.today().year-year,percentage)\n",
    "        "
   ]
  },
  {
   "cell_type": "code",
   "execution_count": 2,
   "id": "bc6955c4",
   "metadata": {},
   "outputs": [],
   "source": [
    "s1= Student('swap',27)"
   ]
  },
  {
   "cell_type": "code",
   "execution_count": 3,
   "id": "00c3bc79",
   "metadata": {},
   "outputs": [
    {
     "name": "stdout",
     "output_type": "stream",
     "text": [
      "Welcome to school!\n"
     ]
    }
   ],
   "source": [
    "s1.welcomeToSchool()"
   ]
  },
  {
   "cell_type": "code",
   "execution_count": 4,
   "id": "23c2107b",
   "metadata": {},
   "outputs": [
    {
     "data": {
      "text/plain": [
       "{'_Student__name': 'swap', 'rollNumber': 27, 'age': 15, 'percentage': 80}"
      ]
     },
     "execution_count": 4,
     "metadata": {},
     "output_type": "execute_result"
    }
   ],
   "source": [
    "s1.__dict__\n"
   ]
  },
  {
   "cell_type": "code",
   "execution_count": 4,
   "id": "776c30d9",
   "metadata": {},
   "outputs": [
    {
     "data": {
      "text/plain": [
       "{'_Student__name': 'swap', 'rollNumber': 27, 'age': 15, 'percentage': 80}"
      ]
     },
     "execution_count": 4,
     "metadata": {},
     "output_type": "execute_result"
    }
   ],
   "source": [
    "s1.__dict__\n"
   ]
  },
  {
   "cell_type": "code",
   "execution_count": 8,
   "id": "5dd63793",
   "metadata": {},
   "outputs": [],
   "source": [
    "s1.__name='Goku'"
   ]
  },
  {
   "cell_type": "code",
   "execution_count": 10,
   "id": "8944ce58",
   "metadata": {},
   "outputs": [
    {
     "data": {
      "text/plain": [
       "{'_Student__name': 'swap',\n",
       " 'rollNumber': 27,\n",
       " 'age': 15,\n",
       " 'percentage': 80,\n",
       " 'name': 'Goku',\n",
       " '__name': 'Goku'}"
      ]
     },
     "execution_count": 10,
     "metadata": {},
     "output_type": "execute_result"
    }
   ],
   "source": [
    "s1.__dict__"
   ]
  },
  {
   "cell_type": "code",
   "execution_count": 12,
   "id": "e5142b0c",
   "metadata": {},
   "outputs": [],
   "source": [
    "s1.age=17"
   ]
  },
  {
   "cell_type": "code",
   "execution_count": 14,
   "id": "765969f3",
   "metadata": {},
   "outputs": [
    {
     "data": {
      "text/plain": [
       "{'_Student__name': 'swap',\n",
       " 'rollNumber': 27,\n",
       " 'age': 17,\n",
       " 'percentage': 80,\n",
       " 'name': 'Goku',\n",
       " '__name': 'Goku'}"
      ]
     },
     "execution_count": 14,
     "metadata": {},
     "output_type": "execute_result"
    }
   ],
   "source": [
    "s1.__dict__"
   ]
  },
  {
   "cell_type": "code",
   "execution_count": 18,
   "id": "6ffefdda",
   "metadata": {},
   "outputs": [
    {
     "name": "stdout",
     "output_type": "stream",
     "text": [
      "My name is  swap and rollNo: 27  age:  15 percentage: 80\n"
     ]
    }
   ],
   "source": [
    "s1.printStudentDetails()"
   ]
  },
  {
   "cell_type": "code",
   "execution_count": 20,
   "id": "3eaec270",
   "metadata": {
    "scrolled": true
   },
   "outputs": [
    {
     "ename": "AttributeError",
     "evalue": "'Student' object has no attribute '__name'",
     "output_type": "error",
     "traceback": [
      "\u001b[1;31m---------------------------------------------------------------------------\u001b[0m",
      "\u001b[1;31mAttributeError\u001b[0m                            Traceback (most recent call last)",
      "\u001b[1;32m<ipython-input-20-e40ce41521fe>\u001b[0m in \u001b[0;36m<module>\u001b[1;34m\u001b[0m\n\u001b[1;32m----> 1\u001b[1;33m \u001b[0mprint\u001b[0m\u001b[1;33m(\u001b[0m\u001b[0ms1\u001b[0m\u001b[1;33m.\u001b[0m\u001b[0m__name\u001b[0m\u001b[1;33m)\u001b[0m\u001b[1;33m\u001b[0m\u001b[1;33m\u001b[0m\u001b[0m\n\u001b[0m",
      "\u001b[1;31mAttributeError\u001b[0m: 'Student' object has no attribute '__name'"
     ]
    }
   ],
   "source": [
    "print(s1.__name)"
   ]
  },
  {
   "cell_type": "code",
   "execution_count": 22,
   "id": "bd48acc4",
   "metadata": {
    "scrolled": true
   },
   "outputs": [
    {
     "ename": "AttributeError",
     "evalue": "'Student' object has no attribute 'name'",
     "output_type": "error",
     "traceback": [
      "\u001b[1;31m---------------------------------------------------------------------------\u001b[0m",
      "\u001b[1;31mAttributeError\u001b[0m                            Traceback (most recent call last)",
      "\u001b[1;32m<ipython-input-22-4fbac6d44e97>\u001b[0m in \u001b[0;36m<module>\u001b[1;34m\u001b[0m\n\u001b[1;32m----> 1\u001b[1;33m \u001b[0mprint\u001b[0m\u001b[1;33m(\u001b[0m\u001b[0ms1\u001b[0m\u001b[1;33m.\u001b[0m\u001b[0mname\u001b[0m\u001b[1;33m)\u001b[0m\u001b[1;33m\u001b[0m\u001b[1;33m\u001b[0m\u001b[0m\n\u001b[0m",
      "\u001b[1;31mAttributeError\u001b[0m: 'Student' object has no attribute 'name'"
     ]
    }
   ],
   "source": [
    "print(s1.name)"
   ]
  },
  {
   "cell_type": "code",
   "execution_count": 23,
   "id": "8097c2d9",
   "metadata": {},
   "outputs": [],
   "source": [
    "# there is a way to acess private modifiers using NAME MANGLING but it is not good practice to use by developers"
   ]
  },
  {
   "cell_type": "code",
   "execution_count": 24,
   "id": "e9b9f067",
   "metadata": {
    "scrolled": true
   },
   "outputs": [
    {
     "name": "stdout",
     "output_type": "stream",
     "text": [
      "swap\n"
     ]
    }
   ],
   "source": [
    "print(s1._Student__name)"
   ]
  },
  {
   "cell_type": "markdown",
   "id": "5c62b40a",
   "metadata": {},
   "source": [
    "### Protected Members"
   ]
  },
  {
   "cell_type": "markdown",
   "id": "f67c1029",
   "metadata": {},
   "source": [
    "protected member are exactly similar to publi member just in python it tell programmers to not manipulate values using subclass , it should be remain untouched ."
   ]
  },
  {
   "cell_type": "code",
   "execution_count": 24,
   "id": "8a386e34",
   "metadata": {},
   "outputs": [],
   "source": [
    "class Vehicle:\n",
    "    def __init__(self,color,maxSpeed,alloyWheel):\n",
    "        self.color = color\n",
    "        \n",
    "        # single underscore is all we need to define protected member\n",
    "        self._maxSpeed = maxSpeed\n",
    "        \n",
    "        #right way to acess private members ast they are accessible within sameclass so we can create getter setter for it .\n",
    "        self.__alloyWheel = alloyWheel\n",
    "        \n",
    "    def setAlloyWheel (self,alloyWheel):\n",
    "        self.__alloyWheel = alloyWheel\n",
    "        \n",
    "    def getAlloyWheel(self):\n",
    "        return self.__alloyWheel\n",
    "    \n",
    "    def printValues(self):\n",
    "        print(\"Color :\",self.color)\n",
    "        print('Alloy-wheel : ',self.__alloyWheel)\n",
    "        print(\"Max-Speed :\",self._maxSpeed)"
   ]
  },
  {
   "cell_type": "code",
   "execution_count": 25,
   "id": "8caa910e",
   "metadata": {},
   "outputs": [],
   "source": [
    "class Car(Vehicle):\n",
    "    def __init__(self,color,maxSpeed,numGears,isConvertible,alloyWheel):\n",
    "        super().__init__(color,maxSpeed,alloyWheel)\n",
    "        self.numGears=numGears\n",
    "        self.isConvertible=isConvertible\n",
    "        \n",
    "    def printCar(self):\n",
    "        print(\"isConvertible :\",self.isConvertible)\n",
    "        print(\"Num-Gears :\",self.numGears)\n",
    "        print(self.printValues())"
   ]
  },
  {
   "cell_type": "code",
   "execution_count": 26,
   "id": "ba1ad85c",
   "metadata": {},
   "outputs": [],
   "source": [
    "c= Car('black',200,5,'no','yes')"
   ]
  },
  {
   "cell_type": "code",
   "execution_count": 27,
   "id": "b1c71ca3",
   "metadata": {},
   "outputs": [
    {
     "name": "stdout",
     "output_type": "stream",
     "text": [
      "Color : black\n",
      "Alloy-wheel :  yes\n",
      "Max-Speed : 200\n"
     ]
    }
   ],
   "source": [
    "c.printValues()"
   ]
  },
  {
   "cell_type": "code",
   "execution_count": 17,
   "id": "a024aa1b",
   "metadata": {},
   "outputs": [
    {
     "name": "stdout",
     "output_type": "stream",
     "text": [
      "200\n"
     ]
    }
   ],
   "source": [
    "print(c._maxSpeed)"
   ]
  },
  {
   "cell_type": "code",
   "execution_count": 19,
   "id": "515ab8b0",
   "metadata": {},
   "outputs": [],
   "source": [
    "c._maxSpeed = 10"
   ]
  },
  {
   "cell_type": "code",
   "execution_count": 20,
   "id": "4156de12",
   "metadata": {},
   "outputs": [
    {
     "name": "stdout",
     "output_type": "stream",
     "text": [
      "10\n"
     ]
    }
   ],
   "source": [
    "print(c._maxSpeed)"
   ]
  },
  {
   "cell_type": "code",
   "execution_count": 28,
   "id": "1f4b1ae4",
   "metadata": {},
   "outputs": [
    {
     "name": "stdout",
     "output_type": "stream",
     "text": [
      "isConvertible : no\n",
      "Num-Gears : 5\n",
      "Color : black\n",
      "Alloy-wheel :  yes\n",
      "Max-Speed : 200\n",
      "None\n"
     ]
    }
   ],
   "source": [
    "c.printCar()"
   ]
  }
 ],
 "metadata": {
  "kernelspec": {
   "display_name": "Python 3",
   "language": "python",
   "name": "python3"
  },
  "language_info": {
   "codemirror_mode": {
    "name": "ipython",
    "version": 3
   },
   "file_extension": ".py",
   "mimetype": "text/x-python",
   "name": "python",
   "nbconvert_exporter": "python",
   "pygments_lexer": "ipython3",
   "version": "3.8.8"
  }
 },
 "nbformat": 4,
 "nbformat_minor": 5
}
