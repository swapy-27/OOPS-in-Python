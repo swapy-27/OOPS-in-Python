{
 "cells": [
  {
   "cell_type": "code",
   "execution_count": 1,
   "id": "ef691cda",
   "metadata": {},
   "outputs": [],
   "source": [
    "from abc import ABC,abstractmethod"
   ]
  },
  {
   "cell_type": "code",
   "execution_count": 5,
   "id": "6192cc59",
   "metadata": {
    "scrolled": true
   },
   "outputs": [],
   "source": [
    "class Automobile(ABC):\n",
    "    def __init__(self):\n",
    "        print(\"Automobile created\")\n",
    "        \n",
    "    @abstractmethod\n",
    "    def start(self):\n",
    "        pass\n",
    "    @abstractmethod\n",
    "    def stop(self):\n",
    "        pass\n",
    "    @abstractmethod\n",
    "    def drive(self):\n",
    "        pass"
   ]
  },
  {
   "cell_type": "markdown",
   "id": "3133f9de",
   "metadata": {},
   "source": [
    "we can only inherit abstract class cannot create object with it"
   ]
  },
  {
   "cell_type": "code",
   "execution_count": 9,
   "id": "83b40c96",
   "metadata": {},
   "outputs": [],
   "source": [
    "class Car(Automobile):\n",
    "    def __init__(self):\n",
    "        print(\"Car object created\")\n",
    "        \n",
    "        \n",
    "    def start(self):\n",
    "        pass\n",
    "    def stop(self):\n",
    "        pass\n",
    "    def drive(self):\n",
    "        pass"
   ]
  },
  {
   "cell_type": "code",
   "execution_count": 10,
   "id": "2f83899d",
   "metadata": {},
   "outputs": [
    {
     "name": "stdout",
     "output_type": "stream",
     "text": [
      "Car object created\n"
     ]
    }
   ],
   "source": [
    "c= Car()"
   ]
  }
 ],
 "metadata": {
  "kernelspec": {
   "display_name": "Python 3",
   "language": "python",
   "name": "python3"
  },
  "language_info": {
   "codemirror_mode": {
    "name": "ipython",
    "version": 3
   },
   "file_extension": ".py",
   "mimetype": "text/x-python",
   "name": "python",
   "nbconvert_exporter": "python",
   "pygments_lexer": "ipython3",
   "version": "3.8.8"
  }
 },
 "nbformat": 4,
 "nbformat_minor": 5
}
