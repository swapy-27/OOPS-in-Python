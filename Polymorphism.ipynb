{
 "cells": [
  {
   "cell_type": "markdown",
   "id": "1e497a49",
   "metadata": {},
   "source": [
    "Polymorphism is simply means abitlity to take different Forms . It refers to use of simgle type of enity objects,methods,operators in different types in different scenarios.\n"
   ]
  },
  {
   "cell_type": "code",
   "execution_count": 11,
   "id": "09f48569",
   "metadata": {},
   "outputs": [],
   "source": [
    "class Vehicle:\n",
    "    def __init__(self,color,maxSpeed,alloyWheel):\n",
    "        self.color = color \n",
    "        self.maxSpeed = maxSpeed\n",
    "        \n",
    "        #right way to acess private members ast they are accessible within sameclass so we can create getter setter for it .\n",
    "        self.__alloyWheel = alloyWheel\n",
    "        \n",
    "    def setAlloyWheel (self,alloyWheel):\n",
    "        self.__alloyWheel = alloyWheel\n",
    "        \n",
    "    def getAlloyWheel(self):\n",
    "        return self.__alloyWheel\n",
    "    \n",
    "    def printValues(self):\n",
    "        print(\"Color :\",self.color)\n",
    "        print('Alloy-wheel : ',self.__alloyWheel)\n",
    "        print(\"Max-Speed :\",self.maxSpeed)"
   ]
  },
  {
   "cell_type": "code",
   "execution_count": 12,
   "id": "4cf29ee5",
   "metadata": {},
   "outputs": [],
   "source": [
    "class Car(Vehicle):\n",
    "    def __init__(self,color,maxSpeed,numGears,isConvertible,alloyWheel):\n",
    "        super().__init__(color,maxSpeed,alloyWheel)\n",
    "        self.numGears=numGears\n",
    "        self.isConvertible=isConvertible\n",
    "    \n",
    "    # redifining methods to fit according to our need in child class is method overriding\n",
    "    \n",
    "#     def printValues(self):\n",
    "#         print(\"isConvertible :\",self.isConvertible)\n",
    "#         print(\"Num-Gears :\",self.numGears)\n",
    "#         print(super().printValues())"
   ]
  },
  {
   "cell_type": "code",
   "execution_count": 13,
   "id": "b3065314",
   "metadata": {},
   "outputs": [],
   "source": [
    "c= Car('black',200,5,'no','yes')"
   ]
  },
  {
   "cell_type": "code",
   "execution_count": 14,
   "id": "2a3c2dec",
   "metadata": {
    "scrolled": true
   },
   "outputs": [
    {
     "name": "stdout",
     "output_type": "stream",
     "text": [
      "Color : black\n",
      "Alloy-wheel :  yes\n",
      "Max-Speed : 200\n"
     ]
    }
   ],
   "source": [
    "c.printValues()"
   ]
  },
  {
   "cell_type": "markdown",
   "id": "b1d5a299",
   "metadata": {},
   "source": [
    "In multiple inheritence polymorphist follows Hierachy approach like it will call method of it's immediate class then if it is not available in that class  then will check in its parent and so on ."
   ]
  }
 ],
 "metadata": {
  "kernelspec": {
   "display_name": "Python 3",
   "language": "python",
   "name": "python3"
  },
  "language_info": {
   "codemirror_mode": {
    "name": "ipython",
    "version": 3
   },
   "file_extension": ".py",
   "mimetype": "text/x-python",
   "name": "python",
   "nbconvert_exporter": "python",
   "pygments_lexer": "ipython3",
   "version": "3.8.8"
  }
 },
 "nbformat": 4,
 "nbformat_minor": 5
}
