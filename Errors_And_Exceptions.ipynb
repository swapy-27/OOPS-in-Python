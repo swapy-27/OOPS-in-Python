{
 "cells": [
  {
   "cell_type": "markdown",
   "id": "01a77234",
   "metadata": {},
   "source": [
    "#### Handling single exception one at a time "
   ]
  },
  {
   "cell_type": "code",
   "execution_count": 5,
   "id": "a2e5a351",
   "metadata": {
    "scrolled": true
   },
   "outputs": [
    {
     "name": "stdout",
     "output_type": "stream",
     "text": [
      "Enter numerator5\n",
      "Enter denominator0\n",
      "denominator should not be zero\n",
      "Some error occured\n",
      "Some error occured\n",
      "Some error occured\n",
      "Some error occured\n",
      "Some error occured\n",
      "Some error occured\n",
      "Some error occured\n",
      "Enter numerator5\n",
      "Enter denominator6\n",
      "0.8333333333333334\n"
     ]
    }
   ],
   "source": [
    "while True:\n",
    "    try:\n",
    "        n=int(input('Enter numerator'))\n",
    "        d=int(input('Enter denominator'))\n",
    "        value = n/d\n",
    "        print(value)\n",
    "        break\n",
    "    except ValueError:\n",
    "        print(\"Numerator and denominator should be an integer\")\n",
    "    except ZeroDivisionError:\n",
    "        print(\"denominator should not be zero\")\n",
    "    except :\n",
    "        print(\"Some error occured\")\n",
    "        "
   ]
  },
  {
   "cell_type": "markdown",
   "id": "2b85ce7e",
   "metadata": {},
   "source": [
    "#### Handling Multiple Exceptions"
   ]
  },
  {
   "cell_type": "code",
   "execution_count": 7,
   "id": "582bbe89",
   "metadata": {
    "scrolled": true
   },
   "outputs": [
    {
     "name": "stdout",
     "output_type": "stream",
     "text": [
      "Enter numerator5 \n",
      "Enter denominator0\n",
      "Numerator and denominator should be an integer\n",
      "Enter numerator\n",
      "Numerator and denominator should be an integer\n",
      "Enter numerator5\n",
      "Enter denominator6\n",
      "0.8333333333333334\n"
     ]
    }
   ],
   "source": [
    "while True:\n",
    "    try:\n",
    "        n=int(input('Enter numerator'))\n",
    "        d=int(input('Enter denominator'))\n",
    "        value = n/d\n",
    "        print(value)\n",
    "        break\n",
    "    except (ValueError,ZeroDivisionError):\n",
    "        print(\"Numerator and denominator should be an integer\")"
   ]
  },
  {
   "cell_type": "markdown",
   "id": "8fa6923f",
   "metadata": {},
   "source": [
    "#### Custom Exceptions"
   ]
  },
  {
   "cell_type": "code",
   "execution_count": 13,
   "id": "6816d40b",
   "metadata": {},
   "outputs": [
    {
     "name": "stdout",
     "output_type": "stream",
     "text": [
      "Enter numerator5\n",
      "Enter denominator0\n"
     ]
    },
    {
     "ename": "ZeroDenominatorError",
     "evalue": "Denominator should not be zero",
     "output_type": "error",
     "traceback": [
      "\u001b[1;31m---------------------------------------------------------------------------\u001b[0m",
      "\u001b[1;31mZeroDenominatorError\u001b[0m                      Traceback (most recent call last)",
      "\u001b[1;32m<ipython-input-13-17a87601ba18>\u001b[0m in \u001b[0;36m<module>\u001b[1;34m\u001b[0m\n\u001b[0;32m      8\u001b[0m \u001b[1;33m\u001b[0m\u001b[0m\n\u001b[0;32m      9\u001b[0m         \u001b[1;32mif\u001b[0m \u001b[1;33m(\u001b[0m\u001b[0md\u001b[0m\u001b[1;33m==\u001b[0m\u001b[1;36m0\u001b[0m\u001b[1;33m)\u001b[0m\u001b[1;33m:\u001b[0m\u001b[1;33m\u001b[0m\u001b[1;33m\u001b[0m\u001b[0m\n\u001b[1;32m---> 10\u001b[1;33m             \u001b[1;32mraise\u001b[0m \u001b[0mZeroDenominatorError\u001b[0m\u001b[1;33m(\u001b[0m\u001b[1;34m'Denominator should not be zero'\u001b[0m\u001b[1;33m)\u001b[0m\u001b[1;33m\u001b[0m\u001b[1;33m\u001b[0m\u001b[0m\n\u001b[0m\u001b[0;32m     11\u001b[0m             \u001b[1;32mbreak\u001b[0m\u001b[1;33m\u001b[0m\u001b[1;33m\u001b[0m\u001b[0m\n\u001b[0;32m     12\u001b[0m \u001b[1;33m\u001b[0m\u001b[0m\n",
      "\u001b[1;31mZeroDenominatorError\u001b[0m: Denominator should not be zero"
     ]
    }
   ],
   "source": [
    "class ZeroDenominatorError (Exception):\n",
    "    pass\n",
    "while True:\n",
    "    \n",
    "    try:\n",
    "        n=int(input('Enter numerator'))\n",
    "        d=int(input('Enter denominator'))\n",
    "        \n",
    "        if (d==0):\n",
    "            raise ZeroDenominatorError('Denominator should not be zero')\n",
    "            break\n",
    "        \n",
    "        value = n/d\n",
    "        print(value)\n",
    "        break\n",
    "    except (ValueError,ZeroDivisionError):\n",
    "        print(\"Numerator and denominator should be an integer\")\n",
    "    "
   ]
  },
  {
   "cell_type": "code",
   "execution_count": 17,
   "id": "92facb93",
   "metadata": {
    "scrolled": true
   },
   "outputs": [
    {
     "name": "stdout",
     "output_type": "stream",
     "text": [
      "Enter numerator5 \n",
      "Enter denominator6\n",
      "0.8333333333333334\n"
     ]
    }
   ],
   "source": [
    "class ZeroDenominatorError (ZeroDivisionError):\n",
    "    pass\n",
    "while True:\n",
    "    \n",
    "    try:\n",
    "        n=int(input('Enter numerator'))\n",
    "        d=int(input('Enter denominator'))\n",
    "        \n",
    "        if (d==0):\n",
    "            raise ZeroDenominatorError('Denominator should not be zero')\n",
    "            \n",
    "        \n",
    "        value = n/d\n",
    "        print(value)\n",
    "        break\n",
    "        \n",
    "    # here we inherited Zero DivisionERror and it comes first in order that's why it's will be called\n",
    "    except (ValueError,ZeroDivisionError):\n",
    "        print(\"Numerator and denominator should be an integer\")\n",
    "    except ZeroDenominatorError:\n",
    "        print('denominator cant be zero')"
   ]
  },
  {
   "cell_type": "markdown",
   "id": "b4fe68a6",
   "metadata": {},
   "source": [
    "#### Else and Finally"
   ]
  },
  {
   "cell_type": "code",
   "execution_count": 18,
   "id": "18619ee0",
   "metadata": {},
   "outputs": [
    {
     "name": "stdout",
     "output_type": "stream",
     "text": [
      "Enter numerator5\n",
      "Enter denominator6\n",
      "0.8333333333333334\n",
      "Exception may or may not be raised\n"
     ]
    }
   ],
   "source": [
    "while True:\n",
    "    try:\n",
    "        n=int(input('Enter numerator'))\n",
    "        d=int(input('Enter denominator'))\n",
    "        value = n/d\n",
    "        print(value)\n",
    "        break\n",
    "    except ValueError:\n",
    "        print(\"Numerator and denominator should be an integer\")\n",
    "    except ZeroDivisionError:\n",
    "        print(\"denominator should not be zero\")\n",
    "    except :\n",
    "        print(\"Some error occured\")\n",
    "    # else will be executed only if no exception is come\n",
    "    else:\n",
    "        print(value)\n",
    "        break\n",
    "    #finaly will definetly be executed wether u have exception or not no matter \n",
    "    finally:\n",
    "        print('Exception may or may not be raised')"
   ]
  }
 ],
 "metadata": {
  "kernelspec": {
   "display_name": "Python 3",
   "language": "python",
   "name": "python3"
  },
  "language_info": {
   "codemirror_mode": {
    "name": "ipython",
    "version": 3
   },
   "file_extension": ".py",
   "mimetype": "text/x-python",
   "name": "python",
   "nbconvert_exporter": "python",
   "pygments_lexer": "ipython3",
   "version": "3.8.8"
  }
 },
 "nbformat": 4,
 "nbformat_minor": 5
}
