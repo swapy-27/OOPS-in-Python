{
 "cells": [
  {
   "cell_type": "markdown",
   "id": "012ad1be",
   "metadata": {},
   "source": [
    "object clas is  mother of all class , every class inherit from it only \n",
    "\n",
    "three methods are there which is provided by object class\n",
    "\n",
    "--new--\n",
    "--init--\n",
    "--str--"
   ]
  },
  {
   "cell_type": "code",
   "execution_count": 10,
   "id": "141cd81f",
   "metadata": {},
   "outputs": [],
   "source": [
    "#this is same as class Circle:\n",
    "\n",
    "class Circle (object):\n",
    "    def __init__(self,radius):\n",
    "        self.radius = radius\n",
    "    \n",
    "    \n",
    "    # it can used to give description of class\n",
    "    def __str__(self):\n",
    "        return \"This is a circle class which takes radius as an argument\"\n",
    "        "
   ]
  },
  {
   "cell_type": "code",
   "execution_count": 8,
   "id": "25cae793",
   "metadata": {},
   "outputs": [],
   "source": [
    "c=Circle(3)"
   ]
  },
  {
   "cell_type": "code",
   "execution_count": 9,
   "id": "fa399a92",
   "metadata": {},
   "outputs": [
    {
     "name": "stdout",
     "output_type": "stream",
     "text": [
      "This is a circle class which takes radius as an argument\n"
     ]
    }
   ],
   "source": [
    "print(c)"
   ]
  },
  {
   "cell_type": "code",
   "execution_count": null,
   "id": "2b825a9a",
   "metadata": {},
   "outputs": [],
   "source": []
  }
 ],
 "metadata": {
  "kernelspec": {
   "display_name": "Python 3",
   "language": "python",
   "name": "python3"
  },
  "language_info": {
   "codemirror_mode": {
    "name": "ipython",
    "version": 3
   },
   "file_extension": ".py",
   "mimetype": "text/x-python",
   "name": "python",
   "nbconvert_exporter": "python",
   "pygments_lexer": "ipython3",
   "version": "3.8.8"
  }
 },
 "nbformat": 4,
 "nbformat_minor": 5
}
